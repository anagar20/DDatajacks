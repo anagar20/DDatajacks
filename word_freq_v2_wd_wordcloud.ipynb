{
 "cells": [
  {
   "cell_type": "code",
   "execution_count": 1,
   "metadata": {
    "collapsed": true
   },
   "outputs": [],
   "source": [
    "docs = []\n",
    "from os import listdir, chdir\n",
    "import re\n",
    "import numpy as np\n",
    "import string\n",
    "import requests\n",
    "import re\n",
    "from string import punctuation\n",
    "from nltk.corpus import stopwords\n",
    "import pandas as pd\n",
    "from os import path\n",
    "from PIL import Image\n",
    "from wordcloud import WordCloud, STOPWORDS\n",
    "import matplotlib.pyplot as plt\n",
    "\n",
    "email_pat = re.compile(\".+@.+\")\n",
    "to_pat = re.compile(\"To:.+\\n\")\n",
    "cc_pat = re.compile(\"cc:.+\\n\")\n",
    "subject_pat = re.compile(\"Subject:.+\\n\")\n",
    "from_pat = re.compile(\"From:.+\\n\")\n",
    "sent_pat = re.compile(\"Sent:.+\\n\")\n",
    "received_pat = re.compile(\"Received:.+\\n\")\n",
    "ctype_pat = re.compile(\"Content-Type:.+\\n\")\n",
    "reply_pat = re.compile(\"Reply- Organization:.+\\n\")\n",
    "date_pat = re.compile(\"Date:.+\\n\")\n",
    "xmail_pat = re.compile(\"X-Mailer:.+\\n\")\n",
    "mimver_pat = re.compile(\"MIME-Version:.+\\n\")\n",
    "contentinfo_pat = re.compile(\"----------------------------------------.+----------------------------------------\")\n",
    "forwardedby_pat = re.compile(\"----------------------.+----------------------\")\n",
    "caution_pat = re.compile('''\\*\\*\\*\\*\\*\\*\\*\\*\\*\\*\\*\\*\\*\\*\\*\\*\\*\\*\\*\\*\\*\\*\\*\\*\\*\\*\\*\\*\\*\\*\\*\\*\\*\\*\\*\\*\\*\\*\\*\\*\\*\\*\\*\\*\\*\\*\\*\\*\\*\\*\\*\\*\\*\\*\\*\\*\\*\\*\\*\\*\\*\\*\\*\\*\\*\\*\\*\\*\\*\\*.+\\*\\*\\*\\*\\*\\*\\*\\*\\*\\*\\*\\*\\*\\*\\*\\*\\*\\*\\*\\*\\*\\*\\*\\*\\*\\*\\*\\*\\*\\*\\*\\*\\*\\*\\*\\*\\*\\*\\*\\*\\*\\*\\*\\*\\*\\*\\*\\*\\*\\*\\*\\*\\*\\*\\*\\*\\*\\*\\*\\*\\*\\*\\*\\*\\*\\*\\*\\*\\*\\*''')\n",
    "privacy_pat = re.compile(\" _______________________________________________________________.+ _______________________________________________________________\")\n",
    "\n"
   ]
  },
  {
   "cell_type": "code",
   "execution_count": 2,
   "metadata": {
    "collapsed": false
   },
   "outputs": [],
   "source": [
    "chdir(\"/Users/abhi/Downloads/maildir\")\n",
    "names = [d for d in listdir(\".\") if \".\" not in d]"
   ]
  },
  {
   "cell_type": "code",
   "execution_count": 3,
   "metadata": {
    "collapsed": false
   },
   "outputs": [],
   "source": [
    "for name in names:\n",
    "    chdir(\"/Users/abhi/Downloads/maildir/%s\" % name)\n",
    "    subfolders = listdir('.')\n",
    "    sent_dirs = [n for n, sf in enumerate(subfolders) if \"sent\" in sf]\n",
    "    sent_dirs_words = [subfolders[i] for i in sent_dirs]\n",
    "    for d in sent_dirs_words:\n",
    "        chdir('/Users/abhi/Downloads/maildir/%s/%s' % (name,d))\n",
    "        file_list = listdir('.')\n",
    "        docs.append([\" \".join(open(f, 'r').readlines()) for f in file_list if \".\" in f])\n",
    "        "
   ]
  },
  {
   "cell_type": "code",
   "execution_count": 4,
   "metadata": {
    "collapsed": false
   },
   "outputs": [],
   "source": [
    "docs_final = []\n",
    "for subfolder in docs:\n",
    "    for email in subfolder:\n",
    "        if \".nsf\" in email:\n",
    "            etype = \".nsf\"\n",
    "        elif \".pst\" in email:\n",
    "            etype = \".pst\"\n",
    "        email_new = email[email.find(etype)+4:]\n",
    "        email_new = to_pat.sub('', email_new)\n",
    "        email_new = cc_pat.sub('', email_new)\n",
    "        email_new = subject_pat.sub('', email_new)\n",
    "        email_new = from_pat.sub('', email_new)\n",
    "        email_new = sent_pat.sub('', email_new)\n",
    "        email_new = email_pat.sub('', email_new)\n",
    "        if \"-----Original Message-----\" in email_new:\n",
    "            email_new = email_new.replace(\"-----Original Message-----\",\"\")\n",
    "        email_new = ctype_pat.sub('', email_new)\n",
    "        email_new = reply_pat.sub('', email_new)\n",
    "        email_new = date_pat.sub('', email_new)\n",
    "        email_new = xmail_pat.sub('', email_new)\n",
    "        email_new = mimver_pat.sub('', email_new)\n",
    "        email_new = contentinfo_pat.sub('', email_new)\n",
    "        email_new = forwardedby_pat.sub('', email_new)\n",
    "        email_new = caution_pat.sub('', email_new)\n",
    "        email_new = privacy_pat.sub('', email_new)\n",
    "        docs_final.append(email_new) "
   ]
  },
  {
   "cell_type": "code",
   "execution_count": 5,
   "metadata": {
    "collapsed": false
   },
   "outputs": [],
   "source": [
    "data = \" \".join(docs_final)\n",
    "pattern = re.compile(r'[^\\w\\s]', re.U)\n",
    "data = str(re.sub(r'_', '', re.sub(pattern, '', data)))\n",
    "\n",
    "replace_punctuation = string.maketrans(string.punctuation, ' '*len(string.punctuation))\n",
    "s = data.translate(replace_punctuation)   \n",
    "\n",
    "s = ''.join([i for i in s if not i.isdigit()])\n",
    "s = s.lower()"
   ]
  },
  {
   "cell_type": "code",
   "execution_count": 6,
   "metadata": {
    "collapsed": true
   },
   "outputs": [],
   "source": [
    "def strip_punctuation(s):\n",
    "    s=''.join(_ for _ in s if _ not in punctuation)\n",
    "    return s"
   ]
  },
  {
   "cell_type": "code",
   "execution_count": 7,
   "metadata": {
    "collapsed": false
   },
   "outputs": [],
   "source": [
    "s = strip_punctuation(s)"
   ]
  },
  {
   "cell_type": "code",
   "execution_count": null,
   "metadata": {
    "collapsed": true
   },
   "outputs": [],
   "source": [
    "# ss = s.split() do not run this"
   ]
  },
  {
   "cell_type": "code",
   "execution_count": 9,
   "metadata": {
    "collapsed": false
   },
   "outputs": [],
   "source": [
    "wordcloud = WordCloud().generate(s)\n",
    "\n",
    "import matplotlib.pyplot as plt\n",
    "plt.imshow(wordcloud)\n",
    "plt.axis(\"off\")\n",
    "\n",
    "wordcloud = WordCloud(max_font_size=40).generate(s)\n",
    "plt.figure()\n",
    "plt.imshow(wordcloud)\n",
    "plt.axis(\"off\")\n",
    "plt.show()"
   ]
  },
  {
   "cell_type": "code",
   "execution_count": 10,
   "metadata": {
    "collapsed": false
   },
   "outputs": [],
   "source": [
    "#download the image from http://www.stencilry.org/stencils/movies/alice%20in%20wonderland/255fk.jpg, rename it as img1\n",
    "#and store it in \n",
    "#the data folder. In my case it is stored in /maildir/data/img1.jpg\n",
    "\n",
    "d = path.dirname(\"/Users/abhi/Downloads/maildir/data/\")\n",
    "alice_mask = np.array(Image.open(path.join(d, \"img1.jpg\")))\n",
    "stopwords = set(STOPWORDS)\n",
    "stopwords.add(\"will\")\n",
    "wc = WordCloud(background_color=\"white\",max_words=1000, mask=alice_mask,\n",
    "               stopwords=stopwords)\n",
    "\n",
    "#adjust max words to obtain different numbers\n",
    "wc.generate(s)\n",
    "wc.to_file(path.join(d, \"alice.png\"))\n",
    "\n",
    "plt.imshow(wc)\n",
    "plt.axis(\"off\")\n",
    "plt.figure()\n",
    "plt.imshow(alice_mask, cmap=plt.cm.gray)\n",
    "plt.axis(\"off\")\n",
    "plt.show()"
   ]
  }
 ],
 "metadata": {
  "anaconda-cloud": {},
  "kernelspec": {
   "display_name": "Python [Root]",
   "language": "python",
   "name": "Python [Root]"
  },
  "language_info": {
   "codemirror_mode": {
    "name": "ipython",
    "version": 2
   },
   "file_extension": ".py",
   "mimetype": "text/x-python",
   "name": "python",
   "nbconvert_exporter": "python",
   "pygments_lexer": "ipython2",
   "version": "2.7.12"
  }
 },
 "nbformat": 4,
 "nbformat_minor": 0
}

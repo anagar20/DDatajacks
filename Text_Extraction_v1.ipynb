{
 "cells": [
  {
   "cell_type": "code",
   "execution_count": null,
   "metadata": {
    "collapsed": true
   },
   "outputs": [],
   "source": [
    "docs = []\n",
    "from os import listdir, chdir\n",
    "import re\n",
    "\n",
    "   \n",
    "# Here's my attempt at coming up with regular expressions to filter out\n",
    "# parts of the enron emails that I deem as useless.\n",
    "\n",
    "email_pat = re.compile(\".+@.+\")\n",
    "to_pat = re.compile(\"To:.+\\n\")\n",
    "cc_pat = re.compile(\"cc:.+\\n\")\n",
    "subject_pat = re.compile(\"Subject:.+\\n\")\n",
    "from_pat = re.compile(\"From:.+\\n\")\n",
    "sent_pat = re.compile(\"Sent:.+\\n\")\n",
    "received_pat = re.compile(\"Received:.+\\n\")\n",
    "ctype_pat = re.compile(\"Content-Type:.+\\n\")\n",
    "reply_pat = re.compile(\"Reply- Organization:.+\\n\")\n",
    "date_pat = re.compile(\"Date:.+\\n\")\n",
    "xmail_pat = re.compile(\"X-Mailer:.+\\n\")\n",
    "mimver_pat = re.compile(\"MIME-Version:.+\\n\")\n",
    "contentinfo_pat = re.compile(\"----------------------------------------.+----------------------------------------\")\n",
    "forwardedby_pat = re.compile(\"----------------------.+----------------------\")\n",
    "caution_pat = re.compile('''\\*\\*\\*\\*\\*\\*\\*\\*\\*\\*\\*\\*\\*\\*\\*\\*\\*\\*\\*\\*\\*\\*\\*\\*\\*\\*\\*\\*\\*\\*\\*\\*\\*\\*\\*\\*\\*\\*\\*\\*\\*\\*\\*\\*\\*\\*\\*\\*\\*\\*\\*\\*\\*\\*\\*\\*\\*\\*\\*\\*\\*\\*\\*\\*\\*\\*\\*\\*\\*\\*.+\\*\\*\\*\\*\\*\\*\\*\\*\\*\\*\\*\\*\\*\\*\\*\\*\\*\\*\\*\\*\\*\\*\\*\\*\\*\\*\\*\\*\\*\\*\\*\\*\\*\\*\\*\\*\\*\\*\\*\\*\\*\\*\\*\\*\\*\\*\\*\\*\\*\\*\\*\\*\\*\\*\\*\\*\\*\\*\\*\\*\\*\\*\\*\\*\\*\\*\\*\\*\\*\\*''')\n",
    "privacy_pat = re.compile(\" _______________________________________________________________.+ _______________________________________________________________\")\n",
    "\n"
   ]
  },
  {
   "cell_type": "code",
   "execution_count": null,
   "metadata": {
    "collapsed": false
   },
   "outputs": [],
   "source": [
    "chdir(\"/Users/abhi/Downloads/maildir\")\n",
    "names = [d for d in listdir(\".\") if \".\" not in d]\n",
    "\n",
    "names"
   ]
  },
  {
   "cell_type": "code",
   "execution_count": null,
   "metadata": {
    "collapsed": false
   },
   "outputs": [],
   "source": [
    "for name in names:\n",
    "    chdir(\"/Users/abhi/Downloads/maildir/%s\" % name)\n",
    "    subfolders = listdir('.')\n",
    "    sent_dirs = [n for n, sf in enumerate(subfolders) if \"sent\" in sf]\n",
    "    sent_dirs_words = [subfolders[i] for i in sent_dirs]\n",
    "    for d in sent_dirs_words:\n",
    "        chdir('/Users/abhi/Downloads/maildir/%s/%s' % (name,d))\n",
    "        file_list = listdir('.')\n",
    "        docs.append([\" \".join(open(f, 'r').readlines()) for f in file_list if \".\" in f])\n",
    "        "
   ]
  },
  {
   "cell_type": "code",
   "execution_count": null,
   "metadata": {
    "collapsed": false
   },
   "outputs": [],
   "source": [
    "docs_final = []\n",
    "for subfolder in docs:\n",
    "    for email in subfolder:\n",
    "        if \".nsf\" in email:\n",
    "            etype = \".nsf\"\n",
    "        elif \".pst\" in email:\n",
    "            etype = \".pst\"\n",
    "        email_new = email[email.find(etype)+4:]\n",
    "        email_new = to_pat.sub('', email_new)\n",
    "        email_new = cc_pat.sub('', email_new)\n",
    "        email_new = subject_pat.sub('', email_new)\n",
    "        email_new = from_pat.sub('', email_new)\n",
    "        email_new = sent_pat.sub('', email_new)\n",
    "        email_new = email_pat.sub('', email_new)\n",
    "        if \"-----Original Message-----\" in email_new:\n",
    "            email_new = email_new.replace(\"-----Original Message-----\",\"\")\n",
    "        email_new = ctype_pat.sub('', email_new)\n",
    "        email_new = reply_pat.sub('', email_new)\n",
    "        email_new = date_pat.sub('', email_new)\n",
    "        email_new = xmail_pat.sub('', email_new)\n",
    "        email_new = mimver_pat.sub('', email_new)\n",
    "        email_new = contentinfo_pat.sub('', email_new)\n",
    "        email_new = forwardedby_pat.sub('', email_new)\n",
    "        email_new = caution_pat.sub('', email_new)\n",
    "        email_new = privacy_pat.sub('', email_new)\n",
    "        docs_final.append(email_new) \n",
    "    \n",
    "docs_final"
   ]
  },
  {
   "cell_type": "code",
   "execution_count": null,
   "metadata": {
    "collapsed": false
   },
   "outputs": [],
   "source": [
    "for n, doc in enumerate(docs_final):\n",
    "    outfile = open(\"/Users/abhi/Downloads/maildir/data/%s.txt\" % n,'w')\n",
    "    outfile.write(doc)\n",
    "    outfile.close()"
   ]
  },
  {
   "cell_type": "code",
   "execution_count": null,
   "metadata": {
    "collapsed": true
   },
   "outputs": [],
   "source": []
  }
 ],
 "metadata": {
  "anaconda-cloud": {},
  "kernelspec": {
   "display_name": "Python [Root]",
   "language": "python",
   "name": "Python [Root]"
  },
  "language_info": {
   "codemirror_mode": {
    "name": "ipython",
    "version": 2
   },
   "file_extension": ".py",
   "mimetype": "text/x-python",
   "name": "python",
   "nbconvert_exporter": "python",
   "pygments_lexer": "ipython2",
   "version": "2.7.12"
  }
 },
 "nbformat": 4,
 "nbformat_minor": 0
}
